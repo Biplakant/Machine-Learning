{
 "cells": [
  {
   "cell_type": "code",
   "execution_count": 2,
   "id": "65723cbf",
   "metadata": {},
   "outputs": [],
   "source": [
    "import matplotlib.pyplot as plt\n",
    "import seaborn as sns\n",
    "import pandas as pd\n",
    "import numpy as np\n",
    "\n"
   ]
  },
  {
   "cell_type": "code",
   "execution_count": 6,
   "id": "4d7843a8",
   "metadata": {},
   "outputs": [
    {
     "data": {
      "text/html": [
       "<div>\n",
       "<style scoped>\n",
       "    .dataframe tbody tr th:only-of-type {\n",
       "        vertical-align: middle;\n",
       "    }\n",
       "\n",
       "    .dataframe tbody tr th {\n",
       "        vertical-align: top;\n",
       "    }\n",
       "\n",
       "    .dataframe thead th {\n",
       "        text-align: right;\n",
       "    }\n",
       "</style>\n",
       "<table border=\"1\" class=\"dataframe\">\n",
       "  <thead>\n",
       "    <tr style=\"text-align: right;\">\n",
       "      <th></th>\n",
       "      <th>bath</th>\n",
       "      <th>balcony</th>\n",
       "      <th>price</th>\n",
       "      <th>total_sqft_int</th>\n",
       "      <th>bhk</th>\n",
       "      <th>price_per_sqft</th>\n",
       "      <th>area_typeSuper built-up  Area</th>\n",
       "      <th>area_typeBuilt-up  Area</th>\n",
       "      <th>area_typePlot  Area</th>\n",
       "      <th>availability_Ready To Move</th>\n",
       "      <th>...</th>\n",
       "      <th>location_Kalena Agrahara</th>\n",
       "      <th>location_Horamavu Agara</th>\n",
       "      <th>location_Vidyaranyapura</th>\n",
       "      <th>location_BTM 2nd Stage</th>\n",
       "      <th>location_Hebbal Kempapura</th>\n",
       "      <th>location_Hosur Road</th>\n",
       "      <th>location_Horamavu Banaswadi</th>\n",
       "      <th>location_Domlur</th>\n",
       "      <th>location_Mahadevpura</th>\n",
       "      <th>location_Tumkur Road</th>\n",
       "    </tr>\n",
       "  </thead>\n",
       "  <tbody>\n",
       "    <tr>\n",
       "      <th>0</th>\n",
       "      <td>3</td>\n",
       "      <td>2.0</td>\n",
       "      <td>150.0</td>\n",
       "      <td>1672.0</td>\n",
       "      <td>3</td>\n",
       "      <td>8971.291866</td>\n",
       "      <td>1</td>\n",
       "      <td>0</td>\n",
       "      <td>0</td>\n",
       "      <td>1</td>\n",
       "      <td>...</td>\n",
       "      <td>0</td>\n",
       "      <td>0</td>\n",
       "      <td>0</td>\n",
       "      <td>0</td>\n",
       "      <td>0</td>\n",
       "      <td>0</td>\n",
       "      <td>0</td>\n",
       "      <td>0</td>\n",
       "      <td>0</td>\n",
       "      <td>0</td>\n",
       "    </tr>\n",
       "    <tr>\n",
       "      <th>1</th>\n",
       "      <td>3</td>\n",
       "      <td>3.0</td>\n",
       "      <td>149.0</td>\n",
       "      <td>1750.0</td>\n",
       "      <td>3</td>\n",
       "      <td>8514.285714</td>\n",
       "      <td>0</td>\n",
       "      <td>1</td>\n",
       "      <td>0</td>\n",
       "      <td>1</td>\n",
       "      <td>...</td>\n",
       "      <td>0</td>\n",
       "      <td>0</td>\n",
       "      <td>0</td>\n",
       "      <td>0</td>\n",
       "      <td>0</td>\n",
       "      <td>0</td>\n",
       "      <td>0</td>\n",
       "      <td>0</td>\n",
       "      <td>0</td>\n",
       "      <td>0</td>\n",
       "    </tr>\n",
       "    <tr>\n",
       "      <th>2</th>\n",
       "      <td>3</td>\n",
       "      <td>2.0</td>\n",
       "      <td>150.0</td>\n",
       "      <td>1750.0</td>\n",
       "      <td>3</td>\n",
       "      <td>8571.428571</td>\n",
       "      <td>1</td>\n",
       "      <td>0</td>\n",
       "      <td>0</td>\n",
       "      <td>1</td>\n",
       "      <td>...</td>\n",
       "      <td>0</td>\n",
       "      <td>0</td>\n",
       "      <td>0</td>\n",
       "      <td>0</td>\n",
       "      <td>0</td>\n",
       "      <td>0</td>\n",
       "      <td>0</td>\n",
       "      <td>0</td>\n",
       "      <td>0</td>\n",
       "      <td>0</td>\n",
       "    </tr>\n",
       "    <tr>\n",
       "      <th>3</th>\n",
       "      <td>2</td>\n",
       "      <td>2.0</td>\n",
       "      <td>40.0</td>\n",
       "      <td>1250.0</td>\n",
       "      <td>2</td>\n",
       "      <td>3200.000000</td>\n",
       "      <td>1</td>\n",
       "      <td>0</td>\n",
       "      <td>0</td>\n",
       "      <td>1</td>\n",
       "      <td>...</td>\n",
       "      <td>0</td>\n",
       "      <td>0</td>\n",
       "      <td>0</td>\n",
       "      <td>0</td>\n",
       "      <td>0</td>\n",
       "      <td>0</td>\n",
       "      <td>0</td>\n",
       "      <td>0</td>\n",
       "      <td>0</td>\n",
       "      <td>0</td>\n",
       "    </tr>\n",
       "    <tr>\n",
       "      <th>4</th>\n",
       "      <td>2</td>\n",
       "      <td>2.0</td>\n",
       "      <td>83.0</td>\n",
       "      <td>1200.0</td>\n",
       "      <td>2</td>\n",
       "      <td>6916.666667</td>\n",
       "      <td>0</td>\n",
       "      <td>0</td>\n",
       "      <td>1</td>\n",
       "      <td>1</td>\n",
       "      <td>...</td>\n",
       "      <td>0</td>\n",
       "      <td>0</td>\n",
       "      <td>0</td>\n",
       "      <td>0</td>\n",
       "      <td>0</td>\n",
       "      <td>0</td>\n",
       "      <td>0</td>\n",
       "      <td>0</td>\n",
       "      <td>0</td>\n",
       "      <td>0</td>\n",
       "    </tr>\n",
       "  </tbody>\n",
       "</table>\n",
       "<p>5 rows × 108 columns</p>\n",
       "</div>"
      ],
      "text/plain": [
       "   bath  balcony  price  total_sqft_int  bhk  price_per_sqft  \\\n",
       "0     3      2.0  150.0          1672.0    3     8971.291866   \n",
       "1     3      3.0  149.0          1750.0    3     8514.285714   \n",
       "2     3      2.0  150.0          1750.0    3     8571.428571   \n",
       "3     2      2.0   40.0          1250.0    2     3200.000000   \n",
       "4     2      2.0   83.0          1200.0    2     6916.666667   \n",
       "\n",
       "   area_typeSuper built-up  Area  area_typeBuilt-up  Area  \\\n",
       "0                              1                        0   \n",
       "1                              0                        1   \n",
       "2                              1                        0   \n",
       "3                              1                        0   \n",
       "4                              0                        0   \n",
       "\n",
       "   area_typePlot  Area  availability_Ready To Move  ...  \\\n",
       "0                    0                           1  ...   \n",
       "1                    0                           1  ...   \n",
       "2                    0                           1  ...   \n",
       "3                    0                           1  ...   \n",
       "4                    1                           1  ...   \n",
       "\n",
       "   location_Kalena Agrahara  location_Horamavu Agara  location_Vidyaranyapura  \\\n",
       "0                         0                        0                        0   \n",
       "1                         0                        0                        0   \n",
       "2                         0                        0                        0   \n",
       "3                         0                        0                        0   \n",
       "4                         0                        0                        0   \n",
       "\n",
       "   location_BTM 2nd Stage  location_Hebbal Kempapura  location_Hosur Road  \\\n",
       "0                       0                          0                    0   \n",
       "1                       0                          0                    0   \n",
       "2                       0                          0                    0   \n",
       "3                       0                          0                    0   \n",
       "4                       0                          0                    0   \n",
       "\n",
       "   location_Horamavu Banaswadi  location_Domlur  location_Mahadevpura  \\\n",
       "0                            0                0                     0   \n",
       "1                            0                0                     0   \n",
       "2                            0                0                     0   \n",
       "3                            0                0                     0   \n",
       "4                            0                0                     0   \n",
       "\n",
       "   location_Tumkur Road  \n",
       "0                     0  \n",
       "1                     0  \n",
       "2                     0  \n",
       "3                     0  \n",
       "4                     0  \n",
       "\n",
       "[5 rows x 108 columns]"
      ]
     },
     "execution_count": 6,
     "metadata": {},
     "output_type": "execute_result"
    }
   ],
   "source": [
    "\"\"\" already apply non value .all variable are  numerical so  already data prepaire for apply linear regression\"\"\"\n",
    "df=pd.read_csv(r\"E:\\1biplav\\data\\Dataset\\bangalore house price prediction_Linear regression\\bangalore house price prediction OHE-data.csv\")\n",
    "df.head()"
   ]
  },
  {
   "cell_type": "markdown",
   "id": "afbf6d83",
   "metadata": {},
   "source": [
    "# Split Data"
   ]
  },
  {
   "cell_type": "code",
   "execution_count": 11,
   "id": "d2c253c7",
   "metadata": {},
   "outputs": [
    {
     "name": "stdout",
     "output_type": "stream",
     "text": [
      "shape of X= (7120, 107)\n",
      "shape of y= (7120,)\n"
     ]
    }
   ],
   "source": [
    "#price= indepemdeny variablr \n",
    "X=df.drop('price',axis=1)\n",
    "y=df['price']\n",
    "print('shape of X=',X.shape)\n",
    "print('shape of y=',y.shape)"
   ]
  },
  {
   "cell_type": "code",
   "execution_count": 15,
   "id": "bbdeb99f",
   "metadata": {},
   "outputs": [
    {
     "name": "stdout",
     "output_type": "stream",
     "text": [
      "shape of X_train= (5696, 107)\n",
      "shape of X_test= (1424, 107)\n",
      "shape of y_train= (5696,)\n",
      "shape of y_test= (1424,)\n"
     ]
    }
   ],
   "source": [
    "#should be between 0.0 and 1.0 and represent the proportion of the dataset to include in the test split\n",
    "#(80% data fortrain and 20% for test) )\n",
    "from sklearn.model_selection import train_test_split   \n",
    "X_train,X_test,y_train,y_test=train_test_split(X,y,test_size=0.2,random_state=51)\n",
    "print('shape of X_train=',X_train.shape)\n",
    "print('shape of X_test=',X_test.shape)\n",
    "print('shape of y_train=',y_train.shape)\n",
    "print('shape of y_test=',y_test.shape)"
   ]
  },
  {
   "cell_type": "markdown",
   "id": "3d6c330f",
   "metadata": {},
   "source": [
    "# Feature Scaling"
   ]
  },
  {
   "cell_type": "code",
   "execution_count": 21,
   "id": "40da6093",
   "metadata": {},
   "outputs": [
    {
     "data": {
      "text/plain": [
       "array([[ 3.0245515 ,  0.55008644,  1.33396246, ..., -0.05630391,\n",
       "        -0.05630391, -0.05138463],\n",
       "       [-0.44274597, -2.0427027 , -0.60737352, ..., -0.05630391,\n",
       "        -0.05630391, -0.05138463],\n",
       "       [-0.44274597,  0.55008644, -0.36873754, ..., -0.05630391,\n",
       "        -0.05630391, -0.05138463],\n",
       "       ...,\n",
       "       [-0.44274597,  0.55008644, -0.49772996, ..., -0.05630391,\n",
       "        -0.05630391, -0.05138463],\n",
       "       [-0.44274597,  0.55008644, -0.62414253, ..., -0.05630391,\n",
       "        -0.05630391, -0.05138463],\n",
       "       [-0.44274597, -0.74630813, -0.6009239 , ..., -0.05630391,\n",
       "        -0.05630391, -0.05138463]])"
      ]
     },
     "execution_count": 21,
     "metadata": {},
     "output_type": "execute_result"
    }
   ],
   "source": [
    "from sklearn.preprocessing import StandardScaler\n",
    "sc=StandardScaler()\n",
    "sc.fit(X_train)\n",
    "X_train=sc.transform(X_train)\n",
    "X_test = sc.transform(X_test)\n",
    "X_train"
   ]
  },
  {
   "cell_type": "code",
   "execution_count": 22,
   "id": "5b9b9908",
   "metadata": {},
   "outputs": [
    {
     "data": {
      "text/plain": [
       "array([[ 3.00000000e+00,  1.58437574e+00,  1.70000000e+03, ...,\n",
       "         3.74232480e-18, -1.06032536e-17, -2.49488320e-17],\n",
       "       [ 2.00000000e+00,  2.00000000e+00,  1.01600000e+03, ...,\n",
       "         3.74232480e-18, -1.06032536e-17, -2.49488320e-17],\n",
       "       [ 4.00000000e+00,  2.00000000e+00,  1.95000000e+03, ...,\n",
       "         3.74232480e-18, -1.06032536e-17, -2.49488320e-17],\n",
       "       ...,\n",
       "       [ 1.00000000e+00,  2.00000000e+00,  6.65000000e+02, ...,\n",
       "         3.74232480e-18, -1.06032536e-17, -2.49488320e-17],\n",
       "       [ 2.00000000e+00,  1.00000000e+00,  1.16700000e+03, ...,\n",
       "         3.74232480e-18, -1.06032536e-17, -2.49488320e-17],\n",
       "       [ 2.00000000e+00, -8.48260288e-17,  1.56600000e+03, ...,\n",
       "         3.74232480e-18, -1.06032536e-17, -2.49488320e-17]])"
      ]
     },
     "execution_count": 22,
     "metadata": {},
     "output_type": "execute_result"
    }
   ],
   "source": [
    "X_test"
   ]
  },
  {
   "cell_type": "markdown",
   "id": "855d657c",
   "metadata": {},
   "source": [
    "# Linear Regression - ML Model Training"
   ]
  },
  {
   "cell_type": "code",
   "execution_count": 34,
   "id": "244b4eb5",
   "metadata": {},
   "outputs": [
    {
     "data": {
      "text/plain": [
       "LinearRegression()"
      ]
     },
     "execution_count": 34,
     "metadata": {},
     "output_type": "execute_result"
    }
   ],
   "source": [
    "from sklearn.linear_model import LinearRegression\n",
    "lr=LinearRegression()\n",
    "lr.fit(X_train, y_train)"
   ]
  },
  {
   "cell_type": "code",
   "execution_count": 35,
   "id": "3e74475e",
   "metadata": {
    "scrolled": true
   },
   "outputs": [
    {
     "data": {
      "text/plain": [
       "array([-5.70206143e+00, -1.25679916e+00,  8.27341833e+01, -1.44906911e+01,\n",
       "        5.75662723e+01,  1.88468907e-01, -1.72593897e+00, -4.51058311e+00,\n",
       "       -2.22589244e+00, -4.28978455e+00, -2.44590976e+00,  5.40246226e-01,\n",
       "       -1.03633400e+00,  1.43064873e+00, -6.25029427e-02, -1.51548783e+00,\n",
       "       -2.14422789e-01,  2.16244155e+00, -1.48710228e+00,  1.95250816e+00,\n",
       "       -3.10761125e+00, -1.28138668e+00, -1.01367155e+00,  1.37968546e-02,\n",
       "        1.10383858e+00,  1.26497611e+00, -3.52405517e+00, -1.21398741e+00,\n",
       "       -5.04622019e-01,  1.46299181e+00, -5.50064233e-01, -8.46468162e-02,\n",
       "        6.84882188e-01, -1.39849820e+00, -1.94761710e-02, -1.57716300e+00,\n",
       "        4.20886277e-01,  8.03443207e-01,  2.99182164e+00,  3.86430422e-03,\n",
       "        1.05037260e-01,  2.89115612e-01, -3.16916626e-01,  1.05625868e+00,\n",
       "       -1.39649279e+00, -3.10533604e+00,  1.01764011e-01, -7.49672917e-02,\n",
       "       -8.03271555e-01, -1.27061856e+00, -8.54046164e-01,  2.64566484e-01,\n",
       "        9.10688839e-01, -8.23059458e-01, -9.07215235e-01,  1.22059216e+00,\n",
       "        2.11418894e+00, -5.38187400e-01, -1.32164338e+00, -8.28349339e-01,\n",
       "        1.28167980e+00, -1.92911295e-01,  6.65824486e-02,  3.65563139e-02,\n",
       "       -1.85069853e+00,  1.49068024e+00, -9.57964753e-01, -9.36110163e-01,\n",
       "       -7.45634897e-01,  7.22643164e-02, -6.79260144e-01, -1.70853833e-01,\n",
       "       -1.72288643e+00, -1.15833746e+00,  5.78931788e-01,  1.37836966e+00,\n",
       "       -1.14424496e+00,  3.96188294e-01, -6.08013157e-01, -2.20959218e+00,\n",
       "        3.45270810e-01,  1.01747448e-03,  1.06563895e-01,  3.04728530e+00,\n",
       "        2.09496392e+00, -8.13481923e-01, -4.18437282e-01,  2.30993396e+00,\n",
       "        3.31858799e-02,  8.07865914e-02,  5.37064987e-02,  1.55347699e+00,\n",
       "        8.13889657e-01, -1.14636462e+00,  3.41805788e-01, -8.28022037e-01,\n",
       "        1.68897360e+00,  2.97657524e-01,  9.59437517e-01,  4.57297702e-01,\n",
       "       -2.22729515e-01, -1.48290835e+00, -6.26342867e-01,  5.86538254e-01,\n",
       "       -1.78547310e+00,  2.19020231e-01, -3.45032599e-01])"
      ]
     },
     "execution_count": 35,
     "metadata": {},
     "output_type": "execute_result"
    }
   ],
   "source": [
    "lr.coef_"
   ]
  },
  {
   "cell_type": "code",
   "execution_count": 36,
   "id": "64081199",
   "metadata": {},
   "outputs": [
    {
     "data": {
      "text/plain": [
       "95.08027299859552"
      ]
     },
     "execution_count": 36,
     "metadata": {},
     "output_type": "execute_result"
    }
   ],
   "source": [
    "lr.intercept_"
   ]
  },
  {
   "cell_type": "markdown",
   "id": "8ea6ce38",
   "metadata": {},
   "source": [
    "# Predict the value of Home and Test"
   ]
  },
  {
   "cell_type": "code",
   "execution_count": 58,
   "id": "e77ede00",
   "metadata": {},
   "outputs": [
    {
     "data": {
      "text/plain": [
       "array([ 3.00000000e+00,  1.58437574e+00,  1.70000000e+03,  3.00000000e+00,\n",
       "        4.70588235e+03,  6.76737068e-17,  1.00000000e+00, -4.61553392e-17,\n",
       "        1.00000000e+00,  7.54702168e-17, -1.96472052e-17,  3.18097608e-17,\n",
       "       -1.99590656e-17, -4.98976640e-18, -1.49692992e-17, -9.97953281e-18,\n",
       "       -2.46369716e-17,  3.24334816e-17, -1.74641824e-17,  4.67790600e-19,\n",
       "       -5.61348720e-18,  1.12269744e-17,  7.98362624e-17, -4.61553392e-17,\n",
       "        4.98976640e-18, -1.24744160e-18,  8.73209120e-18,  4.98976640e-17,\n",
       "       -2.61962736e-17,  4.36604560e-17, -3.67995272e-17, -3.74232480e-18,\n",
       "       -8.73209120e-18,  3.74232480e-18,  6.23720800e-19, -2.24539488e-17,\n",
       "       -4.98976640e-18,  2.93148776e-17,  9.97953281e-18, -6.86092880e-18,\n",
       "       -2.74437152e-17, -1.99590656e-17, -1.24744160e-17,  3.49283648e-17,\n",
       "        0.00000000e+00,  2.61962736e-17, -1.77760428e-17, -3.74232480e-18,\n",
       "       -4.05418520e-18, -1.87116240e-18, -1.24744160e-18,  4.74027808e-17,\n",
       "       -2.49488320e-17,  2.61962736e-17, -2.49488320e-17,  6.23720800e-18,\n",
       "       -2.49488320e-18,  9.97953281e-18, -1.99590656e-17, -2.49488320e-18,\n",
       "       -1.52811596e-17,  6.86092880e-18, -1.24744160e-18,  4.98976640e-18,\n",
       "       -1.62167408e-17,  2.05827864e-17,  1.54074396e-33, -2.12065072e-17,\n",
       "        8.73209120e-18,  7.48464960e-18,  2.18302280e-17,  2.24539488e-17,\n",
       "        2.49488320e-17,  6.86092880e-18,  2.24539488e-17,  8.73209120e-18,\n",
       "        8.73209120e-18,  2.61962736e-17, -4.98976640e-18, -1.74641824e-17,\n",
       "       -2.49488320e-17, -2.49488320e-18,  3.74232480e-18,  2.12065072e-17,\n",
       "        2.12065072e-17,  1.24744160e-17,  4.98976640e-18,  4.98976640e-18,\n",
       "       -1.55930200e-17,  1.12269744e-17, -4.98976640e-18,  2.74437152e-17,\n",
       "        1.12269744e-17,  1.55930200e-17,  3.74232480e-18, -3.14979004e-17,\n",
       "        2.49488320e-17, -2.86911568e-17, -3.24334816e-17, -2.12065072e-17,\n",
       "        1.12269744e-17,  1.55930200e-17, -3.24334816e-17, -2.99385984e-17,\n",
       "        3.74232480e-18, -1.06032536e-17, -2.49488320e-17])"
      ]
     },
     "execution_count": 58,
     "metadata": {},
     "output_type": "execute_result"
    }
   ],
   "source": [
    "X_test[0, :]"
   ]
  },
  {
   "cell_type": "code",
   "execution_count": 54,
   "id": "3d7bb950",
   "metadata": {},
   "outputs": [
    {
     "data": {
      "text/plain": [
       "array([411576.77540755])"
      ]
     },
     "execution_count": 54,
     "metadata": {},
     "output_type": "execute_result"
    }
   ],
   "source": [
    "lr.predict([X_test[0, :]]) # predict 0  means 1  house information  and  all columns"
   ]
  },
  {
   "cell_type": "code",
   "execution_count": 55,
   "id": "ef331ff2",
   "metadata": {},
   "outputs": [
    {
     "data": {
      "text/plain": [
       "array([411576.77540755, 310746.97778616, 515608.73130917, ...,\n",
       "       332099.2019245 , 407373.5113308 , 791290.97974434])"
      ]
     },
     "execution_count": 55,
     "metadata": {},
     "output_type": "execute_result"
    }
   ],
   "source": [
    "lr.predict(X_test)  #predict all information"
   ]
  },
  {
   "cell_type": "code",
   "execution_count": 56,
   "id": "f379b5e3",
   "metadata": {},
   "outputs": [
    {
     "data": {
      "text/plain": [
       "2435     80.00\n",
       "3113     40.00\n",
       "426     120.00\n",
       "1124     79.00\n",
       "1161     45.00\n",
       "         ...  \n",
       "2078     28.34\n",
       "6855     84.00\n",
       "4381     32.00\n",
       "3862     63.00\n",
       "43      180.00\n",
       "Name: price, Length: 1424, dtype: float64"
      ]
     },
     "execution_count": 56,
     "metadata": {},
     "output_type": "execute_result"
    }
   ],
   "source": [
    "y_test"
   ]
  },
  {
   "cell_type": "code",
   "execution_count": 49,
   "id": "3aa670b2",
   "metadata": {},
   "outputs": [
    {
     "data": {
      "text/plain": [
       "-13283418.33900294"
      ]
     },
     "execution_count": 49,
     "metadata": {},
     "output_type": "execute_result"
    }
   ],
   "source": [
    "lr.score(X_test, y_test)"
   ]
  },
  {
   "cell_type": "code",
   "execution_count": 59,
   "id": "de3ae2e5",
   "metadata": {},
   "outputs": [
    {
     "data": {
      "text/plain": [
       "'going something wrong'"
      ]
     },
     "execution_count": 59,
     "metadata": {},
     "output_type": "execute_result"
    }
   ],
   "source": [
    "\"going something wrong\""
   ]
  },
  {
   "cell_type": "code",
   "execution_count": null,
   "id": "df1ab9c9",
   "metadata": {},
   "outputs": [],
   "source": []
  }
 ],
 "metadata": {
  "kernelspec": {
   "display_name": "Python 3 (ipykernel)",
   "language": "python",
   "name": "python3"
  },
  "language_info": {
   "codemirror_mode": {
    "name": "ipython",
    "version": 3
   },
   "file_extension": ".py",
   "mimetype": "text/x-python",
   "name": "python",
   "nbconvert_exporter": "python",
   "pygments_lexer": "ipython3",
   "version": "3.9.7"
  }
 },
 "nbformat": 4,
 "nbformat_minor": 5
}
