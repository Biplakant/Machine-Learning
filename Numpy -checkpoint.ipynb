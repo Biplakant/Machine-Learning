{
 "cells": [
  {
   "cell_type": "markdown",
   "id": "c831d973",
   "metadata": {},
   "source": [
    "# How to create one dimensional NumPy array?"
   ]
  },
  {
   "cell_type": "code",
   "execution_count": 1,
   "id": "a932102a",
   "metadata": {},
   "outputs": [
    {
     "name": "stdout",
     "output_type": "stream",
     "text": [
      "[1 2 3 4]\n"
     ]
    }
   ],
   "source": [
    "#To create python NumPy array use array() function and give items of a list.\n",
    "\n",
    "#Syntax: numpy.array(object, dtype=None, copy=True, order=’K’, subok=False, ndmin=0)\n",
    "\n",
    "import numpy as np  #import numpy package\n",
    "one_d=np.array([1,2,3,4])\n",
    "print(one_d)"
   ]
  },
  {
   "cell_type": "markdown",
   "id": "c29b8e98",
   "metadata": {},
   "source": [
    "# How to create two dimensional NumPy array?"
   ]
  },
  {
   "cell_type": "code",
   "execution_count": 2,
   "id": "e8b28a3a",
   "metadata": {},
   "outputs": [
    {
     "name": "stdout",
     "output_type": "stream",
     "text": [
      "[[1 2 3]\n",
      " [3 2 1]]\n"
     ]
    }
   ],
   "source": [
    "two_d=np.array([[1,2,3],[3,2,1]])\n",
    "print(two_d)"
   ]
  },
  {
   "cell_type": "code",
   "execution_count": 3,
   "id": "d1e11dfc",
   "metadata": {},
   "outputs": [
    {
     "data": {
      "text/plain": [
       "numpy.ndarray"
      ]
     },
     "execution_count": 3,
     "metadata": {},
     "output_type": "execute_result"
    }
   ],
   "source": [
    "#How to check the type of ndarray?\n",
    "#Syntax: type(self, /, *args, **kwargs)\n",
    "type(two_d)#give the type of data present in two_d array variabel"
   ]
  },
  {
   "cell_type": "code",
   "execution_count": 4,
   "id": "df19df42",
   "metadata": {},
   "outputs": [
    {
     "name": "stdout",
     "output_type": "stream",
     "text": [
      "2\n",
      "1\n"
     ]
    }
   ],
   "source": [
    "#How to check dimension of NumPy ndarray?\n",
    "#The ndim attribute help to find the dimension of any NumPy array.\n",
    "#Syntax: array_name.ndim\n",
    "print(two_d.ndim)\n",
    "print(one_d.ndim)"
   ]
  },
  {
   "cell_type": "code",
   "execution_count": 5,
   "id": "73b535df",
   "metadata": {},
   "outputs": [
    {
     "data": {
      "text/plain": [
       "4"
      ]
     },
     "execution_count": 5,
     "metadata": {},
     "output_type": "execute_result"
    }
   ],
   "source": [
    "#How to check the size of the NumPy array?\n",
    "#The size attribute help to know, how many items present in a ndarray.\n",
    "#Syntax: array_name.size\n",
    "one_d.size"
   ]
  },
  {
   "cell_type": "code",
   "execution_count": 6,
   "id": "f23f65ca",
   "metadata": {},
   "outputs": [
    {
     "name": "stdout",
     "output_type": "stream",
     "text": [
      "(4,)\n",
      "(2, 3)\n"
     ]
    }
   ],
   "source": [
    "#How to check the shape of ndarray?\n",
    "#The shape attribute help to know the shape of NumPy ndarray.\n",
    "#It gives output in the form of a tuple data type. Tuple represents the number of rows and columns. Ex: (rows, columns)\n",
    "#Syntax: array_name.shape\n",
    "print(one_d.shape)\n",
    "print(two_d.shape)"
   ]
  },
  {
   "cell_type": "code",
   "execution_count": 7,
   "id": "8bfc1375",
   "metadata": {},
   "outputs": [
    {
     "data": {
      "text/plain": [
       "dtype('int32')"
      ]
     },
     "execution_count": 7,
     "metadata": {},
     "output_type": "execute_result"
    }
   ],
   "source": [
    "#How to the data type of NumPy ndarray?\\\n",
    "#Syntax: array_name.dtype\n",
    "two_d.dtype"
   ]
  },
  {
   "cell_type": "code",
   "execution_count": 8,
   "id": "893254e4",
   "metadata": {},
   "outputs": [],
   "source": [
    "#Ones metrics use NumPy ones() function.\n",
    "#yntax: np.ones(shape, dtype=None, order=‘C’)"
   ]
  },
  {
   "cell_type": "code",
   "execution_count": 9,
   "id": "b3bc5982",
   "metadata": {},
   "outputs": [
    {
     "name": "stdout",
     "output_type": "stream",
     "text": [
      "[['1' '1' '1']\n",
      " ['1' '1' '1']\n",
      " ['1' '1' '1']]\n"
     ]
    }
   ],
   "source": [
    "f=np.ones((3,3),dtype=str)\n",
    "print(f)"
   ]
  },
  {
   "cell_type": "code",
   "execution_count": 10,
   "id": "be844417",
   "metadata": {},
   "outputs": [
    {
     "data": {
      "text/plain": [
       "dtype('<U1')"
      ]
     },
     "execution_count": 10,
     "metadata": {},
     "output_type": "execute_result"
    }
   ],
   "source": [
    "f.dtype"
   ]
  },
  {
   "cell_type": "code",
   "execution_count": 11,
   "id": "6f60b95a",
   "metadata": {},
   "outputs": [
    {
     "data": {
      "text/plain": [
       "array([[0, 0, 0],\n",
       "       [0, 0, 0],\n",
       "       [0, 0, 0]])"
      ]
     },
     "execution_count": 11,
     "metadata": {},
     "output_type": "execute_result"
    }
   ],
   "source": [
    "#Zeros metrics use NumPy zeros() function.\n",
    "np.zeros((3, 3), dtype = int)\n"
   ]
  },
  {
   "cell_type": "code",
   "execution_count": 12,
   "id": "f1aba30e",
   "metadata": {},
   "outputs": [
    {
     "data": {
      "text/plain": [
       "array([[0.000e+000, 0.000e+000, 0.000e+000, 0.000e+000],\n",
       "       [0.000e+000, 7.075e-321, 0.000e+000, 0.000e+000]])"
      ]
     },
     "execution_count": 12,
     "metadata": {},
     "output_type": "execute_result"
    }
   ],
   "source": [
    "#Empty metrics use NumPy empty() function.\n",
    "#Syntax: np.empty(shape, dtype=None, order=‘C’)\n",
    "np.empty((2,4),dtype=None)\n",
    "#By default NumPy empty() function give float64 bit random value. According to your requirement change dtyp"
   ]
  },
  {
   "cell_type": "code",
   "execution_count": 13,
   "id": "78c9c93c",
   "metadata": {},
   "outputs": [
    {
     "name": "stdout",
     "output_type": "stream",
     "text": [
      "[ 2  7 12 17 22 27 32 37 42 47 52 57 62 67 72 77 82 87 92 97]\n"
     ]
    }
   ],
   "source": [
    "#Create NumPy 1D array using arange() function\n",
    "#Syntax: np.arange([start,] stop[, step,], dtype=None)\n",
    "\n",
    "\n",
    "arr=np.arange(2,100,5,dtype=None)\n",
    "print(arr)\n",
    "\n",
    "\n",
    "#start from 2 and stop till 100 and take 5 step"
   ]
  },
  {
   "cell_type": "code",
   "execution_count": 14,
   "id": "674b4ff0",
   "metadata": {},
   "outputs": [
    {
     "data": {
      "text/plain": [
       "array([ 1.        ,  6.44444444, 11.88888889, 17.33333333, 22.77777778,\n",
       "       28.22222222, 33.66666667, 39.11111111, 44.55555556, 50.        ])"
      ]
     },
     "execution_count": 14,
     "metadata": {},
     "output_type": "execute_result"
    }
   ],
   "source": [
    "#Create NumPy 1D array using linspace() function\n",
    "#Return evenly spaced numbers over a specified interval.\n",
    "\n",
    "#Syntax: np.linspace(start, stop, num=50, endpoint=True, retstep=False, dtype=None, axis=0,)\n",
    "\n",
    "\n",
    "\n",
    "np.linspace(1,50,10)\n",
    "\n",
    "\n",
    "#start from 1 and stop till 50 and 10 times to reach to 50.\n",
    "\n"
   ]
  },
  {
   "cell_type": "code",
   "execution_count": 15,
   "id": "a2d1d20a",
   "metadata": {},
   "outputs": [
    {
     "name": "stdout",
     "output_type": "stream",
     "text": [
      "[[1 2 3]\n",
      " [4 5 6]]\n"
     ]
    },
    {
     "data": {
      "text/plain": [
       "array([1, 2, 3, 4, 5, 6])"
      ]
     },
     "execution_count": 15,
     "metadata": {},
     "output_type": "execute_result"
    }
   ],
   "source": [
    "#Convert 1D array to multidimensional array using reshape() function\n",
    "\n",
    "#Syntax: np.reshape(a, newshape, order=‘C’)\n",
    "a = np.array([[1,2,3], [4,5,6]])\n",
    "print(a)\n",
    "np.reshape(a, 6)\n"
   ]
  },
  {
   "cell_type": "code",
   "execution_count": 16,
   "id": "d6cc4ff1",
   "metadata": {},
   "outputs": [],
   "source": [
    "#Convert multidimensional array in one dimensional\n",
    "#To convert multidimensional array into 1D use ravel() or flatten() function.\n",
    "#Syntax: np.ravel(array_name, order=‘C’)  or  array_name.ravel(order=‘C’)\n",
    "#array_name.flatten(order=‘C’)\n",
    "\n",
    "\n",
    "\n",
    "\n",
    "    \n",
    "    #Transpose metrics\n",
    "\n",
    "#Syntax: np.transpose(array_name, axes=None)  or array_name.T\n",
    "\n",
    "    "
   ]
  },
  {
   "cell_type": "code",
   "execution_count": 17,
   "id": "3a7adca6",
   "metadata": {},
   "outputs": [
    {
     "data": {
      "text/plain": [
       "array([[1, 4],\n",
       "       [2, 5],\n",
       "       [3, 6]])"
      ]
     },
     "execution_count": 17,
     "metadata": {},
     "output_type": "execute_result"
    }
   ],
   "source": [
    "a.T"
   ]
  },
  {
   "cell_type": "code",
   "execution_count": 18,
   "id": "d59603af",
   "metadata": {},
   "outputs": [
    {
     "name": "stdout",
     "output_type": "stream",
     "text": [
      "[[1 2 3]\n",
      " [3 4 5]\n",
      " [5 6 7]]\n",
      "[1 2 3 3 4 5 5 6 7]\n"
     ]
    },
    {
     "data": {
      "text/plain": [
       "array([1, 2, 3, 3, 4, 5, 5, 6, 7])"
      ]
     },
     "execution_count": 18,
     "metadata": {},
     "output_type": "execute_result"
    }
   ],
   "source": [
    "#NumPy Array Size\n",
    "\n",
    "#The np.size() function count items from a given array and give output in the form of a number as size.\n",
    "\n",
    "#Syntax: np.size(array, axis=None)\n",
    "\n",
    "arr_size=np.array([[1,2,3],[3,4,5],[5,6,7]])\n",
    "print(arr_size)\n",
    "\n",
    "#Convert multidimensional array in one dimensional\n",
    "#To convert multidimensional array into 1D use ravel() or flatten() function.\n",
    "#Syntax: np.ravel(array_name, order=‘C’)  or  array_name.ravel(order=‘C’)\n",
    "#array_name.flatten(order=‘C’)\n",
    "\n",
    "b=arr_size.flatten()\n",
    "print(b)\n",
    "#or\n",
    "np.ravel(arr_size)"
   ]
  },
  {
   "cell_type": "code",
   "execution_count": 19,
   "id": "b1eb0bc8",
   "metadata": {},
   "outputs": [
    {
     "data": {
      "text/plain": [
       "9"
      ]
     },
     "execution_count": 19,
     "metadata": {},
     "output_type": "execute_result"
    }
   ],
   "source": [
    "np.size(arr_size)"
   ]
  },
  {
   "cell_type": "code",
   "execution_count": 20,
   "id": "dcb968d3",
   "metadata": {},
   "outputs": [],
   "source": [
    "#If you want to count how many items in a row or a column of NumPy array. Then give the axis argument as 0 or 1."
   ]
  },
  {
   "cell_type": "code",
   "execution_count": 21,
   "id": "339c1184",
   "metadata": {},
   "outputs": [
    {
     "name": "stdout",
     "output_type": "stream",
     "text": [
      "3\n",
      "3\n"
     ]
    }
   ],
   "source": [
    "print(np.size(arr_size,axis=0))\n",
    "print(np.size(arr_size,axis=1))"
   ]
  },
  {
   "cell_type": "code",
   "execution_count": 22,
   "id": "0e5f77d6",
   "metadata": {},
   "outputs": [
    {
     "name": "stdout",
     "output_type": "stream",
     "text": [
      "(9,)\n"
     ]
    },
    {
     "data": {
      "text/plain": [
       "(2, 3)"
      ]
     },
     "execution_count": 22,
     "metadata": {},
     "output_type": "execute_result"
    }
   ],
   "source": [
    "#Python NumPy array shape Function\n",
    "\n",
    "#The NumPy shape function helps to find the number of rows and columns of python NumPy array. \n",
    "#The numpy.shape() function gives output in form of tuple (rows_no, columns_no). \n",
    "\n",
    "#Syntax: np.shape(array)\n",
    "\n",
    "print(np.shape(b))\n",
    "a.shape"
   ]
  },
  {
   "cell_type": "code",
   "execution_count": 23,
   "id": "3a360152",
   "metadata": {},
   "outputs": [],
   "source": [
    "arr_3D = np.array([[[1, 2, 3], [1, 2, 3], [1, 2, 3]], [[1, 2, 3], [1, 2, 3], [1, 2, 3]], [[1, 2, 3], [1, 2, 3], [1, 2, 3]]])"
   ]
  },
  {
   "cell_type": "code",
   "execution_count": 24,
   "id": "ecff9535",
   "metadata": {},
   "outputs": [
    {
     "data": {
      "text/plain": [
       "array([[[1, 2, 3],\n",
       "        [1, 2, 3],\n",
       "        [1, 2, 3]],\n",
       "\n",
       "       [[1, 2, 3],\n",
       "        [1, 2, 3],\n",
       "        [1, 2, 3]],\n",
       "\n",
       "       [[1, 2, 3],\n",
       "        [1, 2, 3],\n",
       "        [1, 2, 3]]])"
      ]
     },
     "execution_count": 24,
     "metadata": {},
     "output_type": "execute_result"
    }
   ],
   "source": [
    "arr_3D"
   ]
  },
  {
   "cell_type": "code",
   "execution_count": 25,
   "id": "704f4f8b",
   "metadata": {},
   "outputs": [
    {
     "data": {
      "text/plain": [
       "(3, 3, 3)"
      ]
     },
     "execution_count": 25,
     "metadata": {},
     "output_type": "execute_result"
    }
   ],
   "source": [
    "arr_3D.shape  #The np.shape() gives a return of three-dimensional array in a  tuple (no. of 2D arrays, rows, columns)."
   ]
  },
  {
   "cell_type": "markdown",
   "id": "0364aaa9",
   "metadata": {},
   "source": [
    "#Numpy Mathematica Functions\n",
    "\n"
   ]
  },
  {
   "cell_type": "code",
   "execution_count": 26,
   "id": "3d8f6f55",
   "metadata": {},
   "outputs": [
    {
     "name": "stdout",
     "output_type": "stream",
     "text": [
      "[[1 2 3]\n",
      " [4 5 6]\n",
      " [7 8 9]]\n",
      "[[1 2 3]\n",
      " [4 5 6]\n",
      " [7 8 9]]\n"
     ]
    }
   ],
   "source": [
    "#Creating two arrays using np.arange() function and reshape it in 2D using np.reshape() function.\n",
    "\n",
    "\n",
    "arr1=np.arange(1,10).reshape(3,3)\n",
    "arr2=np.arange(1,10).reshape(3,3)\n",
    "print(arr1)\n",
    "print(arr2)"
   ]
  },
  {
   "cell_type": "code",
   "execution_count": 27,
   "id": "61afb0d4",
   "metadata": {},
   "outputs": [
    {
     "name": "stdout",
     "output_type": "stream",
     "text": [
      "[[ 2  4  6]\n",
      " [ 8 10 12]\n",
      " [14 16 18]]\n"
     ]
    },
    {
     "data": {
      "text/plain": [
       "array([[ 2,  4,  6],\n",
       "       [ 8, 10, 12],\n",
       "       [14, 16, 18]])"
      ]
     },
     "execution_count": 27,
     "metadata": {},
     "output_type": "execute_result"
    }
   ],
   "source": [
    "#Addition of Two Numpy Array\n",
    "\n",
    "print(arr1+arr2)\n",
    "np.add(arr1,arr2)"
   ]
  },
  {
   "cell_type": "code",
   "execution_count": 28,
   "id": "90282d60",
   "metadata": {},
   "outputs": [
    {
     "name": "stdout",
     "output_type": "stream",
     "text": [
      "[[0 0 0]\n",
      " [0 0 0]\n",
      " [0 0 0]]\n"
     ]
    },
    {
     "data": {
      "text/plain": [
       "array([[0, 0, 0],\n",
       "       [0, 0, 0],\n",
       "       [0, 0, 0]])"
      ]
     },
     "execution_count": 28,
     "metadata": {},
     "output_type": "execute_result"
    }
   ],
   "source": [
    "#Subtraction of Two NumPy Array\n",
    "print(arr1-arr2)\n",
    "np.subtract(arr1,arr2)"
   ]
  },
  {
   "cell_type": "code",
   "execution_count": 29,
   "id": "ec6186bc",
   "metadata": {},
   "outputs": [
    {
     "name": "stdout",
     "output_type": "stream",
     "text": [
      "[[ 1  4  9]\n",
      " [16 25 36]\n",
      " [49 64 81]]\n"
     ]
    },
    {
     "data": {
      "text/plain": [
       "array([[ 1,  4,  9],\n",
       "       [16, 25, 36],\n",
       "       [49, 64, 81]])"
      ]
     },
     "execution_count": 29,
     "metadata": {},
     "output_type": "execute_result"
    }
   ],
   "source": [
    "#Multiplication of Two NumPy Array\n",
    "\n",
    "print(arr1 * arr2)\n",
    "np.multiply(arr1,arr2)"
   ]
  },
  {
   "cell_type": "code",
   "execution_count": 30,
   "id": "20f57baa",
   "metadata": {},
   "outputs": [
    {
     "name": "stdout",
     "output_type": "stream",
     "text": [
      "[[ 30  36  42]\n",
      " [ 66  81  96]\n",
      " [102 126 150]]\n"
     ]
    },
    {
     "data": {
      "text/plain": [
       "array([[ 30,  36,  42],\n",
       "       [ 66,  81,  96],\n",
       "       [102, 126, 150]])"
      ]
     },
     "execution_count": 30,
     "metadata": {},
     "output_type": "execute_result"
    }
   ],
   "source": [
    "#Matrix Product of Two NumPy Array (matrix)\n",
    "\n",
    "print(arr1 @ arr2)\n",
    "#or\n",
    "\n",
    "np.dot(arr1,arr2)"
   ]
  },
  {
   "cell_type": "code",
   "execution_count": 31,
   "id": "66652d93",
   "metadata": {},
   "outputs": [
    {
     "data": {
      "text/plain": [
       "9"
      ]
     },
     "execution_count": 31,
     "metadata": {},
     "output_type": "execute_result"
    }
   ],
   "source": [
    "#NumPy Mathematical Built-in functions\n",
    "\n",
    "#To find maximum value from an array.\n",
    "\n",
    "arr1.max()"
   ]
  },
  {
   "cell_type": "code",
   "execution_count": 32,
   "id": "8c337b34",
   "metadata": {},
   "outputs": [
    {
     "data": {
      "text/plain": [
       "array([7, 8, 9])"
      ]
     },
     "execution_count": 32,
     "metadata": {},
     "output_type": "execute_result"
    }
   ],
   "source": [
    "arr1.max(axis=0) #return max values from each columns"
   ]
  },
  {
   "cell_type": "code",
   "execution_count": 33,
   "id": "90f1193c",
   "metadata": {},
   "outputs": [
    {
     "data": {
      "text/plain": [
       "array([3, 6, 9])"
      ]
     },
     "execution_count": 33,
     "metadata": {},
     "output_type": "execute_result"
    }
   ],
   "source": [
    "arr1.max(axis=1) #return max values from each raw"
   ]
  },
  {
   "cell_type": "code",
   "execution_count": 34,
   "id": "dd413d85",
   "metadata": {},
   "outputs": [
    {
     "data": {
      "text/plain": [
       "8"
      ]
     },
     "execution_count": 34,
     "metadata": {},
     "output_type": "execute_result"
    }
   ],
   "source": [
    "arr1.argmax() #returm indexn of max values  of an  array"
   ]
  },
  {
   "cell_type": "code",
   "execution_count": 35,
   "id": "49fc8b53",
   "metadata": {},
   "outputs": [
    {
     "data": {
      "text/plain": [
       "1"
      ]
     },
     "execution_count": 35,
     "metadata": {},
     "output_type": "execute_result"
    }
   ],
   "source": [
    "#To find minimum value from an array.+\n",
    "arr1.min()"
   ]
  },
  {
   "cell_type": "code",
   "execution_count": 36,
   "id": "a2d6279b",
   "metadata": {},
   "outputs": [
    {
     "data": {
      "text/plain": [
       "array([1, 2, 3])"
      ]
     },
     "execution_count": 36,
     "metadata": {},
     "output_type": "execute_result"
    }
   ],
   "source": [
    "arr1.min(axis=0) #return min values from each columns"
   ]
  },
  {
   "cell_type": "code",
   "execution_count": 37,
   "id": "c322af74",
   "metadata": {},
   "outputs": [
    {
     "data": {
      "text/plain": [
       "0"
      ]
     },
     "execution_count": 37,
     "metadata": {},
     "output_type": "execute_result"
    }
   ],
   "source": [
    "arr1.argmin() #return index  of min values of an array"
   ]
  },
  {
   "cell_type": "code",
   "execution_count": 38,
   "id": "6dd47bd9",
   "metadata": {},
   "outputs": [
    {
     "data": {
      "text/plain": [
       "45"
      ]
     },
     "execution_count": 38,
     "metadata": {},
     "output_type": "execute_result"
    }
   ],
   "source": [
    "#Return sumation of NuPy array.\n",
    "arr1.sum()"
   ]
  },
  {
   "cell_type": "code",
   "execution_count": 39,
   "id": "0e668b56",
   "metadata": {},
   "outputs": [
    {
     "data": {
      "text/plain": [
       "array([12, 15, 18])"
      ]
     },
     "execution_count": 39,
     "metadata": {},
     "output_type": "execute_result"
    }
   ],
   "source": [
    "arr1.sum(axis=0) # return sum of each column"
   ]
  },
  {
   "cell_type": "code",
   "execution_count": 40,
   "id": "c9bfde24",
   "metadata": {},
   "outputs": [
    {
     "data": {
      "text/plain": [
       "array([ 6, 15, 24])"
      ]
     },
     "execution_count": 40,
     "metadata": {},
     "output_type": "execute_result"
    }
   ],
   "source": [
    "arr1.sum(axis=1)"
   ]
  },
  {
   "cell_type": "code",
   "execution_count": 41,
   "id": "99939f98",
   "metadata": {},
   "outputs": [
    {
     "data": {
      "text/plain": [
       "5.0"
      ]
     },
     "execution_count": 41,
     "metadata": {},
     "output_type": "execute_result"
    }
   ],
   "source": [
    "#Return mean of NumPy array.\n",
    "\n",
    "arr1.mean()"
   ]
  },
  {
   "cell_type": "code",
   "execution_count": 42,
   "id": "2e0b10af",
   "metadata": {},
   "outputs": [
    {
     "data": {
      "text/plain": [
       "array([[1.        , 1.41421356, 1.73205081],\n",
       "       [2.        , 2.23606798, 2.44948974],\n",
       "       [2.64575131, 2.82842712, 3.        ]])"
      ]
     },
     "execution_count": 42,
     "metadata": {},
     "output_type": "execute_result"
    }
   ],
   "source": [
    "#Return square root of each element of NumPy array.\n",
    "np.sqrt(arr1)"
   ]
  },
  {
   "cell_type": "code",
   "execution_count": 43,
   "id": "ff23eef5",
   "metadata": {},
   "outputs": [
    {
     "data": {
      "text/plain": [
       "2.581988897471611"
      ]
     },
     "execution_count": 43,
     "metadata": {},
     "output_type": "execute_result"
    }
   ],
   "source": [
    "#Return standerd division of Numpy array.\n",
    "np.std(arr1)"
   ]
  },
  {
   "cell_type": "code",
   "execution_count": 44,
   "id": "e03a720d",
   "metadata": {},
   "outputs": [
    {
     "data": {
      "text/plain": [
       "array([[2.71828183e+00, 7.38905610e+00, 2.00855369e+01],\n",
       "       [5.45981500e+01, 1.48413159e+02, 4.03428793e+02],\n",
       "       [1.09663316e+03, 2.98095799e+03, 8.10308393e+03]])"
      ]
     },
     "execution_count": 44,
     "metadata": {},
     "output_type": "execute_result"
    }
   ],
   "source": [
    "#Return exponential value of each element of the NumPy array.\n",
    "\n",
    "\n",
    "np.exp(arr1)"
   ]
  },
  {
   "cell_type": "code",
   "execution_count": 45,
   "id": "d58180c2",
   "metadata": {},
   "outputs": [
    {
     "data": {
      "text/plain": [
       "array([[0.        , 0.69314718, 1.09861229],\n",
       "       [1.38629436, 1.60943791, 1.79175947],\n",
       "       [1.94591015, 2.07944154, 2.19722458]])"
      ]
     },
     "execution_count": 45,
     "metadata": {},
     "output_type": "execute_result"
    }
   ],
   "source": [
    "#Return natural log of each element of NumPy array.\n",
    "\n",
    "np.log(arr1)"
   ]
  },
  {
   "cell_type": "markdown",
   "id": "ea2dbdbc",
   "metadata": {},
   "source": [
    "# NumPy Trigonometric Functions – Np.Sin(), Np.Cos(), Np.Tan()"
   ]
  },
  {
   "cell_type": "code",
   "execution_count": 46,
   "id": "5f0a15e7",
   "metadata": {},
   "outputs": [
    {
     "name": "stdout",
     "output_type": "stream",
     "text": [
      "sine values of sin 90 degree= 0.8939966636005579\n"
     ]
    }
   ],
   "source": [
    "#NumPy Trigonometric Functions\n",
    "\n",
    "\n",
    "#The np.sin() NumPy function help to find sine value of the angle in degree and radian.\n",
    "\n",
    "#Syntax: sin(x, /, out=None, *, where=True, casting=’same_kind’, order=’K’, dtype=None, subok=True[, signature, extobj])\n",
    "\n",
    "\n",
    "\n",
    "\n",
    "sin_90=(np.sin(90))\n",
    "print(\"sine values of sin 90 degree=\",sin_90)"
   ]
  },
  {
   "cell_type": "code",
   "execution_count": 47,
   "id": "09ebd6b2",
   "metadata": {},
   "outputs": [],
   "source": [
    "#Sine value of the angle in radians\n",
    "#To get sine value of the angle in radians, need to multiply angle with np.pi/180.\n"
   ]
  },
  {
   "cell_type": "code",
   "execution_count": 48,
   "id": "3fb65ca1",
   "metadata": {},
   "outputs": [
    {
     "name": "stdout",
     "output_type": "stream",
     "text": [
      "sine value of angle 90 in radian= 2.705654241397949e-12\n"
     ]
    }
   ],
   "source": [
    "sin_90=np.sin(90*np.pi*180)\n",
    "print(\"sine value of angle 90 in radian=\",sin_90)\n",
    "\n"
   ]
  },
  {
   "cell_type": "code",
   "execution_count": 49,
   "id": "055c7e7c",
   "metadata": {},
   "outputs": [
    {
     "name": "stdout",
     "output_type": "stream",
     "text": [
      "cosine values of angle 180 in degree= -0.5984600690578581\n",
      "cosine value of angle 180 in radian= -1.0\n"
     ]
    }
   ],
   "source": [
    "#np.cos() Trigonometric Function\n",
    "#The np.cos() NumPy function help to find cosine value of the angle in degree and radian.\n",
    "\n",
    "#Syntax: cos(x, /, out=None, *, where=True, casting=’same_kind’, order=’K’, dtype=None, subok=True[, signature, extobj])\n",
    "\n",
    "\n",
    "\n",
    "cos90=np.cos(180)\n",
    "print(\"cosine values of angle 180 in degree=\",cos90)\n",
    "\n",
    "#To get cosine value of the angle in radians, need to multiply angle with np.pi/180.\n",
    "\n",
    "cos_180=np.cos(180*np.pi/180)\n",
    "print(\"cosine value of angle 180 in radian=\",cos_180)"
   ]
  },
  {
   "cell_type": "code",
   "execution_count": 50,
   "id": "a066dd25",
   "metadata": {},
   "outputs": [
    {
     "name": "stdout",
     "output_type": "stream",
     "text": [
      "0.320040389379563\n"
     ]
    }
   ],
   "source": [
    "#np.tan() Trigonometric Function\n",
    "#The np.tan() NumPy function help to find tangent value of the angle in degree and radian.\n",
    "\n",
    "#Syntax: tan(x, /, out=None, *, where=True, casting=’same_kind’, order=’K’, dtype=None, subok=True[, signature, extobj])\n",
    "\n",
    "tan60=np.tan(60)\n",
    "print(tan60)"
   ]
  },
  {
   "cell_type": "code",
   "execution_count": 51,
   "id": "103370bc",
   "metadata": {},
   "outputs": [
    {
     "data": {
      "image/png": "[encoded data removed]",
      "text/plain": [
       "<Figure size 432x288 with 1 Axes>"
      ]
     },
     "metadata": {
      "needs_background": "light"
     },
     "output_type": "display_data"
    },
    {
     "data": {
      "image/png": "[encoded data removed]",
      "text/plain": [
       "<Figure size 432x288 with 1 Axes>"
      ]
     },
     "metadata": {
      "needs_background": "light"
     },
     "output_type": "display_data"
    },
    {
     "data": {
      "text/plain": [
       "Text(0, 0.5, 'y-axis')"
      ]
     },
     "execution_count": 51,
     "metadata": {},
     "output_type": "execute_result"
    },
    {
     "data": {
      "image/png": "[encoded data removed]",
      "text/plain": [
       "<Figure size 432x288 with 1 Axes>"
      ]
     },
     "metadata": {
      "needs_background": "light"
     },
     "output_type": "display_data"
    }
   ],
   "source": [
    "#Graphical Representation of Trigonometric sine Function\n",
    "\n",
    "\n",
    "import numpy as np\n",
    "import matplotlib.pyplot as plt\n",
    "\n",
    "x=np.arange(0,3*np.pi,0.01)\n",
    "y=np.sin(x)\n",
    "plt.plot(x,y)\n",
    "\n",
    "plt.title(\"Graphical representation of sine function  \")\n",
    "plt.xlabel(\"x-axis\")\n",
    "plt.ylabel(\"y-axis\")\n",
    "plt.show()\n",
    "z=np.cos(x)\n",
    "plt.plot(x,z)\n",
    "plt.title(\"Graphical representation of sine function  \")\n",
    "plt.xlabel(\"x-axis\")\n",
    "plt.ylabel(\"y-axis\")\n",
    "plt.show()\n",
    "tan=np.tan(x)\n",
    "plt.plot(tan)\n",
    "plt.title(\"Graphical representation of sine function  \")\n",
    "plt.xlabel(\"x-axis\")\n",
    "plt.ylabel(\"y-axis\")"
   ]
  },
  {
   "cell_type": "markdown",
   "id": "31f57424",
   "metadata": {},
   "source": [
    "# Numpy Random | Random Module |Python Numpy Tutorial"
   ]
  },
  {
   "cell_type": "code",
   "execution_count": 52,
   "id": "88e578bc",
   "metadata": {},
   "outputs": [
    {
     "name": "stdout",
     "output_type": "stream",
     "text": [
      "[0.67495028]\n",
      "[[0.78201781 0.02468067 0.08140958]\n",
      " [0.05833703 0.36526167 0.11715282]\n",
      " [0.63760954 0.49855515 0.69111349]]\n"
     ]
    }
   ],
   "source": [
    "#The NumPy random is a module help to generate random numbers.\n",
    "\n",
    "import numpy as np\n",
    "import random  #import ramdom module  \n",
    "\n",
    "\n",
    "#np.random.random()\n",
    "\n",
    "#This function generates float value between 0.0 to 1.0 and returns ndarray if you will give shape.\n",
    "\n",
    "rd_num=np.random.random(1)\n",
    "rd_2D_array=np.random.random((3,3))\n",
    "print(rd_num)\n",
    "print(rd_2D_array)\n"
   ]
  },
  {
   "cell_type": "code",
   "execution_count": 53,
   "id": "811b5b01",
   "metadata": {},
   "outputs": [
    {
     "name": "stdout",
     "output_type": "stream",
     "text": [
      "1\n"
     ]
    }
   ],
   "source": [
    "#np.random.randint()\n",
    "\n",
    "\n",
    "#The random integer function generates single random integer number from given range and \n",
    "#if the shape will give then return ndarray.\n",
    "\n",
    "rd_no = np.random.randint(1,4)\n",
    "rd_2D_arr = np.random.randint(1,4, (4,4))\n",
    "rd_3D_arr = np.random.randint(1,4, (2,4,4))\n",
    " \n",
    "print(rd_no)"
   ]
  },
  {
   "cell_type": "code",
   "execution_count": 54,
   "id": "5d5e9804",
   "metadata": {},
   "outputs": [
    {
     "name": "stdout",
     "output_type": "stream",
     "text": [
      "[[2 1 2 1]\n",
      " [1 3 3 2]\n",
      " [2 2 3 3]\n",
      " [1 3 1 2]]\n"
     ]
    }
   ],
   "source": [
    "print(rd_2D_arr)"
   ]
  },
  {
   "cell_type": "code",
   "execution_count": 55,
   "id": "33d2a57a",
   "metadata": {},
   "outputs": [
    {
     "name": "stdout",
     "output_type": "stream",
     "text": [
      "[[[2 2 1 2]\n",
      "  [1 3 2 1]\n",
      "  [1 2 3 2]\n",
      "  [3 2 2 3]]\n",
      "\n",
      " [[1 2 1 2]\n",
      "  [1 2 1 1]\n",
      "  [1 2 2 3]\n",
      "  [2 1 1 3]]]\n"
     ]
    }
   ],
   "source": [
    "print(rd_3D_arr)"
   ]
  },
  {
   "cell_type": "code",
   "execution_count": 56,
   "id": "24789a3d",
   "metadata": {},
   "outputs": [
    {
     "name": "stdout",
     "output_type": "stream",
     "text": [
      "[[[2 2 1 1]\n",
      "  [2 1 2 2]\n",
      "  [1 2 2 3]\n",
      "  [1 2 1 3]]\n",
      "\n",
      " [[1 3 1 1]\n",
      "  [1 3 1 3]\n",
      "  [3 2 1 1]\n",
      "  [3 2 3 2]]]\n"
     ]
    }
   ],
   "source": [
    "#np.random.seed()\n",
    "\n",
    "#The random module generates random number but \n",
    "#next time you want to generate the same number then seed() will help.\n",
    "\n",
    "np.random.seed(10)\n",
    "rd_3D_arr=np.random.randint(1,4,(2,4,4))  #number of index,row,columns\n",
    "print(rd_3D_arr)"
   ]
  },
  {
   "cell_type": "code",
   "execution_count": 57,
   "id": "b9f34576",
   "metadata": {},
   "outputs": [
    {
     "name": "stdout",
     "output_type": "stream",
     "text": [
      "[[0.13145815 0.41366737 0.77872881]\n",
      " [0.58390137 0.18263144 0.82608225]\n",
      " [0.10540183 0.28357668 0.06556327]]\n"
     ]
    }
   ],
   "source": [
    "#np.random.rand()\n",
    "#The rand() function work like random() but it accept shape and return ndarray which contain random values between 0.0 to 1.0.\n",
    "arr_2D = np.random.rand(3,3) # return  3 x 3 matrix\n",
    "print(arr_2D)"
   ]
  },
  {
   "cell_type": "code",
   "execution_count": 58,
   "id": "0a046ddf",
   "metadata": {},
   "outputs": [
    {
     "name": "stdout",
     "output_type": "stream",
     "text": [
      "[[ 0.67893119 -1.91355421 -0.94245806]\n",
      " [-1.74554298 -1.02094527 -0.16206903]\n",
      " [-0.6579709   0.42211306  0.62402334]]\n"
     ]
    }
   ],
   "source": [
    "#np.random.randn()\n",
    "\n",
    "#The randn() function work like rand() function but it reurn samples of  standerd normalise distribution value.\n",
    "arr_2D = np.random.randn(3,3)\n",
    "print(arr_2D)"
   ]
  },
  {
   "cell_type": "code",
   "execution_count": 59,
   "id": "2a5cb02e",
   "metadata": {},
   "outputs": [
    {
     "name": "stdout",
     "output_type": "stream",
     "text": [
      "1\n"
     ]
    }
   ],
   "source": [
    "#np.random.choice()\n",
    "\n",
    "#If you have sequence values and want to get random single value then the random choice() function is the best choice.\n",
    "x = [1,2,3,4] # list\n",
    "choice_from_x = np.random.choice(x) # retun random single item from sequence\n",
    "print(choice_from_x )\n",
    "\n",
    "\n"
   ]
  },
  {
   "cell_type": "code",
   "execution_count": 60,
   "id": "5c4f784d",
   "metadata": {},
   "outputs": [
    {
     "name": "stdout",
     "output_type": "stream",
     "text": [
      "1\n",
      "3\n",
      "1\n",
      "3\n",
      "3\n",
      "1\n",
      "4\n",
      "2\n",
      "1\n",
      "4\n",
      "2\n",
      "3\n",
      "3\n",
      "2\n",
      "3\n",
      "3\n",
      "4\n",
      "1\n",
      "1\n",
      "1\n"
     ]
    }
   ],
   "source": [
    "for i in range(20):\n",
    "    print(np.random.choice(x))"
   ]
  },
  {
   "cell_type": "code",
   "execution_count": 61,
   "id": "a2c6f3f0",
   "metadata": {},
   "outputs": [
    {
     "name": "stdout",
     "output_type": "stream",
     "text": [
      "[2 4 3 1]\n"
     ]
    }
   ],
   "source": [
    "#np.random.permutation()\n",
    "\n",
    "#If you want to generate some permutation of sequence then use random permutation() function.\n",
    "\n",
    "x_permute = np.random.permutation(x)\n",
    "print(x_permute)"
   ]
  },
  {
   "cell_type": "markdown",
   "id": "f8b7e639",
   "metadata": {},
   "source": [
    "# Python NumPy String Operations Methods"
   ]
  },
  {
   "cell_type": "code",
   "execution_count": 103,
   "id": "8305a480",
   "metadata": {},
   "outputs": [
    {
     "data": {
      "text/plain": [
       "array('ILOVEYousuman', dtype='<U13')"
      ]
     },
     "execution_count": 103,
     "metadata": {},
     "output_type": "execute_result"
    }
   ],
   "source": [
    "str1=\"ILOVEYou\"\n",
    "str2=\"suman\"\n",
    "#np.char.add()\n",
    "#This function use to add two strings.\n",
    "\n",
    "#Syntax: np.char.add(string_array1, string_array2)\n",
    "\n",
    "str3=np.char.add(str1,str2)\n",
    "\n",
    "\n",
    "str3"
   ]
  },
  {
   "cell_type": "code",
   "execution_count": 63,
   "id": "2804e4cd",
   "metadata": {},
   "outputs": [
    {
     "data": {
      "text/plain": [
       "'ILOVEYouILOVEYouILOVEYouILOVEYouILOVEYouILOVEYouILOVEYouILOVEYouILOVEYouILOVEYouILOVEYouILOVEYouILOVEYouILOVEYouILOVEYouILOVEYouILOVEYouILOVEYouILOVEYouILOVEYouILOVEYouILOVEYouILOVEYouILOVEYouILOVEYouILOVEYouILOVEYouILOVEYouILOVEYouILOVEYouILOVEYouILOVEYouILOVEYouILOVEYouILOVEYouILOVEYouILOVEYouILOVEYouILOVEYouILOVEYouILOVEYouILOVEYouILOVEYouILOVEYouILOVEYouILOVEYouILOVEYouILOVEYouILOVEYouILOVEYouILOVEYouILOVEYouILOVEYouILOVEYouILOVEYouILOVEYouILOVEYouILOVEYouILOVEYouILOVEYouILOVEYouILOVEYouILOVEYouILOVEYouILOVEYouILOVEYouILOVEYouILOVEYouILOVEYouILOVEYouILOVEYouILOVEYouILOVEYouILOVEYouILOVEYouILOVEYouILOVEYouILOVEYouILOVEYouILOVEYouILOVEYouILOVEYouILOVEYouILOVEYouILOVEYouILOVEYouILOVEYouILOVEYouILOVEYouILOVEYouILOVEYouILOVEYouILOVEYouILOVEYouILOVEYouILOVEYouILOVEYouILOVEYouILOVEYouILOVEYou'"
      ]
     },
     "execution_count": 63,
     "metadata": {},
     "output_type": "execute_result"
    }
   ],
   "source": [
    "#np.char.multiply()\n",
    "#This function helps to duplicate string required number of times.\n",
    "\n",
    "#Syntax: np.char.multiply(string_array, number)\n",
    "\n",
    "np.char.multiply(str1 ,100)\n",
    "\n",
    "#or\n",
    "str1*100"
   ]
  },
  {
   "cell_type": "code",
   "execution_count": 64,
   "id": "7d719611",
   "metadata": {},
   "outputs": [
    {
     "data": {
      "text/plain": [
       "array('Iloveyou', dtype='<U8')"
      ]
     },
     "execution_count": 64,
     "metadata": {},
     "output_type": "execute_result"
    }
   ],
   "source": [
    "#np.char.capitalize()\n",
    "\n",
    "#The capitalize() function convert given string’s first character in capital format.\n",
    "#Syntax: np.char.capitalize(string_array)\n",
    "\n",
    "str1.capitalize()\n",
    "#or\n",
    "np.char.capitalize(str1)\n"
   ]
  },
  {
   "cell_type": "code",
   "execution_count": 65,
   "id": "da2a2b38",
   "metadata": {},
   "outputs": [
    {
     "data": {
      "text/plain": [
       "'iloveyou'"
      ]
     },
     "execution_count": 65,
     "metadata": {},
     "output_type": "execute_result"
    }
   ],
   "source": [
    "#np.char.lower()\n",
    "#The lower() function convert given string in lower case..\n",
    "\n",
    "#Syntax: np.char.lower(string_array)\n",
    "#or\n",
    "str1.lower()"
   ]
  },
  {
   "cell_type": "code",
   "execution_count": 66,
   "id": "4e7c7b64",
   "metadata": {},
   "outputs": [
    {
     "data": {
      "text/plain": [
       "'ILOVEYOU'"
      ]
     },
     "execution_count": 66,
     "metadata": {},
     "output_type": "execute_result"
    }
   ],
   "source": [
    "#np.char.upper()\n",
    "\n",
    "#The upper() function convert given string in upper case..\n",
    "\n",
    "#Syntax: np.char.upper(string_array)\n",
    "#or\n",
    "str1.upper()"
   ]
  },
  {
   "cell_type": "code",
   "execution_count": 67,
   "id": "8d6da96c",
   "metadata": {},
   "outputs": [
    {
     "data": {
      "text/plain": [
       "'Iloveyou'"
      ]
     },
     "execution_count": 67,
     "metadata": {},
     "output_type": "execute_result"
    }
   ],
   "source": [
    "#np.char.title()\n",
    "\n",
    "#The title() function convert given string in title format..\n",
    "\n",
    "#Syntax: np.char.title(string_array)\n",
    "#or\n",
    "str1.title()"
   ]
  },
  {
   "cell_type": "code",
   "execution_count": 68,
   "id": "d5c4dc07",
   "metadata": {},
   "outputs": [
    {
     "data": {
      "text/plain": [
       "array('***********ILOVEYou***********', dtype='<U30')"
      ]
     },
     "execution_count": 68,
     "metadata": {},
     "output_type": "execute_result"
    }
   ],
   "source": [
    "#np.char.center()\n",
    "#The title() function set the ng in the center of given string length. \n",
    "#If you want to fill the ng’s side black space. Then give fillchar parameter with character.\n",
    "\n",
    "#Syntax: np.char.center(string_array, width, fillchar=‘ ‘)\n",
    "np.char.center(str1,30,fillchar=\"*\")"
   ]
  },
  {
   "cell_type": "code",
   "execution_count": 70,
   "id": "a005c023",
   "metadata": {},
   "outputs": [
    {
     "data": {
      "text/plain": [
       "array(list(['ILOVEYousuman']), dtype=object)"
      ]
     },
     "execution_count": 70,
     "metadata": {},
     "output_type": "execute_result"
    }
   ],
   "source": [
    "#np.char.split()\n",
    "\n",
    "#The split() function split the string in a list of items. By default split function split the string by space.\n",
    "\n",
    "#Syntax: np.char.split(string_array, sep=None, maxsplit=None)\n",
    "\n",
    "np.char.split(str3)"
   ]
  },
  {
   "cell_type": "code",
   "execution_count": 72,
   "id": "6ce3ca56",
   "metadata": {},
   "outputs": [
    {
     "name": "stdout",
     "output_type": "stream",
     "text": [
      "['i love my india']\n"
     ]
    }
   ],
   "source": [
    "#np.char.splitlines()\n",
    "#The splitlines() function split the string by lines in a list as elements.\n",
    "\n",
    "#Syntax: np.char.splitlines(string_array, keepends=None)\n",
    "splitlines_str=np.char.splitlines(\"i love my india\")\n",
    "print(splitlines_str)"
   ]
  },
  {
   "cell_type": "code",
   "execution_count": 76,
   "id": "c6eb0e1e",
   "metadata": {},
   "outputs": [
    {
     "data": {
      "text/plain": [
       "array('I L O V E Y o u s u m a n', dtype='<U25')"
      ]
     },
     "execution_count": 76,
     "metadata": {},
     "output_type": "execute_result"
    }
   ],
   "source": [
    "#np.char.join()\n",
    "\n",
    "#The join() function join the echa character of given sequence by seperator.\n",
    "\n",
    "#Syntax: np.char.join(string_array_seperator, string_array)\n",
    "\n",
    "np.char.join(\" \",str3)"
   ]
  },
  {
   "cell_type": "code",
   "execution_count": 77,
   "id": "3610c962",
   "metadata": {},
   "outputs": [
    {
     "data": {
      "text/plain": [
       "array('ILOVEYoupummy', dtype='<U13')"
      ]
     },
     "execution_count": 77,
     "metadata": {},
     "output_type": "execute_result"
    }
   ],
   "source": [
    "#np.char.replace()\n",
    "\n",
    "#The replace() function replace existing string by new given string.\n",
    "#Syntax: np.char.replace(string_array, old_string_array, new_string_array, count=None)\n",
    "\n",
    "np.char.replace(str3,\"suman\",\"pummy\")\n",
    "\n"
   ]
  },
  {
   "cell_type": "markdown",
   "id": "93abf5de",
   "metadata": {},
   "source": [
    "# Python NumPy String Comparison "
   ]
  },
  {
   "cell_type": "code",
   "execution_count": 81,
   "id": "e54f9682",
   "metadata": {},
   "outputs": [
    {
     "data": {
      "text/plain": [
       "False"
      ]
     },
     "execution_count": 81,
     "metadata": {},
     "output_type": "execute_result"
    }
   ],
   "source": [
    "#The string comparison methods use to compare string with each other and return a boolean value.\n",
    "\n",
    "#np.char.equal()\n",
    "#The equal() function return “True” boolean value, If both strings are same else “False”.\n",
    "\n",
    "#Syntax: np.char.equal(string_array1,  string_array2)\n",
    "\n",
    "np.char.equal(str1,str3)\n",
    "#or\n",
    "str1==str2"
   ]
  },
  {
   "cell_type": "code",
   "execution_count": 83,
   "id": "47a15433",
   "metadata": {},
   "outputs": [
    {
     "data": {
      "text/plain": [
       "array(True)"
      ]
     },
     "execution_count": 83,
     "metadata": {},
     "output_type": "execute_result"
    }
   ],
   "source": [
    "#np.char.not_equal()\n",
    "#The not_equal() function return “True” boolean value, If both strings are not same else “False”.\n",
    "\n",
    "np.char.not_equal(str2,str3)\n",
    "#or\n",
    "str2!=str3"
   ]
  },
  {
   "cell_type": "code",
   "execution_count": 90,
   "id": "8d77538b",
   "metadata": {},
   "outputs": [
    {
     "data": {
      "text/plain": [
       "array(4)"
      ]
     },
     "execution_count": 90,
     "metadata": {},
     "output_type": "execute_result"
    }
   ],
   "source": [
    "#Python NumPy string Information\n",
    "#The string information methods use to get information from the stings.\n",
    "\n",
    "#np.char.count()\n",
    "#The count() function count string from an existing string and return number.\n",
    "#Syntax: np.char.count(string_array, sub, start=0, end=None)\n",
    "\n",
    "np.char.count(\"elephanaaaAt\",\"a\")"
   ]
  },
  {
   "cell_type": "code",
   "execution_count": 98,
   "id": "21291bef",
   "metadata": {},
   "outputs": [
    {
     "data": {
      "text/plain": [
       "array(10)"
      ]
     },
     "execution_count": 98,
     "metadata": {},
     "output_type": "execute_result"
    }
   ],
   "source": [
    "#np.char.find()\n",
    "#The find() function find given string from an existing string and return the index of the first character of that string.\n",
    "#Syntax: np.char.find(string_array, sub, start=0, end=None)\n",
    "\n",
    "np.char.find(\"elephanaaaAt\",\"A\")"
   ]
  },
  {
   "cell_type": "code",
   "execution_count": 104,
   "id": "5676dc1c",
   "metadata": {},
   "outputs": [
    {
     "data": {
      "text/plain": [
       "array(10)"
      ]
     },
     "execution_count": 104,
     "metadata": {},
     "output_type": "execute_result"
    }
   ],
   "source": [
    "#np.char.index()\n",
    "\n",
    "#The index() function find an index of a given string from an existing string and\n",
    "#return the index of the first character of that string. If string will not found then return ValueError.\n",
    "\n",
    "#Syntax: np.char.index(string_array, sub, start=0, end=None)\n",
    "np.char.index(str3,\"m\")"
   ]
  },
  {
   "cell_type": "code",
   "execution_count": 105,
   "id": "f66f6acd",
   "metadata": {},
   "outputs": [
    {
     "data": {
      "text/plain": [
       "array(True)"
      ]
     },
     "execution_count": 105,
     "metadata": {},
     "output_type": "execute_result"
    }
   ],
   "source": [
    "#np.char.isalpha()\n",
    "#The isalpha() function return “True”. If the string contains each and every character are the alphabet.\n",
    "#Syntax: np.char.isalpha(string_array)\n",
    "\n",
    "np.char.isalpha(str3)"
   ]
  },
  {
   "cell_type": "code",
   "execution_count": 106,
   "id": "c4d70936",
   "metadata": {},
   "outputs": [
    {
     "data": {
      "text/plain": [
       "array(False)"
      ]
     },
     "execution_count": 106,
     "metadata": {},
     "output_type": "execute_result"
    }
   ],
   "source": [
    "#np.char.isdecimal()\n",
    "\n",
    "#The isdecimal() function return “True”. If the string contains each and every character are decimal.\n",
    "#Syntax: np.char.isdecimal(string_array)\n",
    "\n",
    "np.char.isdecimal(str3)"
   ]
  },
  {
   "cell_type": "code",
   "execution_count": 107,
   "id": "d2ac6093",
   "metadata": {},
   "outputs": [
    {
     "data": {
      "text/plain": [
       "array(False)"
      ]
     },
     "execution_count": 107,
     "metadata": {},
     "output_type": "execute_result"
    }
   ],
   "source": [
    "#np.char.isdigit()\n",
    "\n",
    "#The isdigit() function return “True”. If the string contains each and every character are digits.\n",
    "#Syntax: np.char.isdigit(string_array)./\n",
    "\n",
    "np.char.isdigit(str3)"
   ]
  },
  {
   "cell_type": "code",
   "execution_count": 108,
   "id": "4c315d45",
   "metadata": {},
   "outputs": [
    {
     "data": {
      "text/plain": [
       "array(False)"
      ]
     },
     "execution_count": 108,
     "metadata": {},
     "output_type": "execute_result"
    }
   ],
   "source": [
    "#np.char.islower()\n",
    "\n",
    "#The islower() function return “True”. If string contain each and every character in lowercase.\n",
    "\n",
    "#Syntax: np.char.islower(string_array)\n",
    "\n",
    "np.char.islower(str3)"
   ]
  },
  {
   "cell_type": "code",
   "execution_count": 109,
   "id": "e73ad015",
   "metadata": {},
   "outputs": [
    {
     "data": {
      "text/plain": [
       "array(False)"
      ]
     },
     "execution_count": 109,
     "metadata": {},
     "output_type": "execute_result"
    }
   ],
   "source": [
    "#np.char.isupper()\n",
    "#The isupper() function return “True”. If string contain each and every character in uppercase.\n",
    "\n",
    "#Syntax: np.char.isupper(string_array)\n",
    "np.char.isupper(str3)"
   ]
  },
  {
   "cell_type": "code",
   "execution_count": 110,
   "id": "67da37b7",
   "metadata": {},
   "outputs": [
    {
     "data": {
      "text/plain": [
       "array(False)"
      ]
     },
     "execution_count": 110,
     "metadata": {},
     "output_type": "execute_result"
    }
   ],
   "source": [
    "#np.char.isnumeric()\n",
    "\n",
    "#The isnumeric() function return “True”. If string contain each and every character in numeric form.\n",
    "\n",
    "#Syntax: np.char.isnumeric(string_array)\n",
    "\n",
    "np.char.isnumeric(str3)"
   ]
  },
  {
   "cell_type": "code",
   "execution_count": 111,
   "id": "3364f714",
   "metadata": {},
   "outputs": [
    {
     "data": {
      "text/plain": [
       "array(False)"
      ]
     },
     "execution_count": 111,
     "metadata": {},
     "output_type": "execute_result"
    }
   ],
   "source": [
    "#np.char.isspace()\n",
    "\n",
    "#The isspace() function return “True”. If string contain black space.\n",
    "\n",
    "#Syntax: np.char.isspace(string_array)\n",
    "\n",
    "\n",
    "np.char.isspace(str3)"
   ]
  },
  {
   "cell_type": "code",
   "execution_count": null,
   "id": "4440c975",
   "metadata": {},
   "outputs": [],
   "source": []
  }
 ],
 "metadata": {
  "kernelspec": {
   "display_name": "Python 3 (ipykernel)",
   "language": "python",
   "name": "python3"
  },
  "language_info": {
   "codemirror_mode": {
    "name": "ipython",
    "version": 3
   },
   "file_extension": ".py",
   "mimetype": "text/x-python",
   "name": "python",
   "nbconvert_exporter": "python",
   "pygments_lexer": "ipython3",
   "version": "3.9.7"
  }
 },
 "nbformat": 4,
 "nbformat_minor": 5
}
